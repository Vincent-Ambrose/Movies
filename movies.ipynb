{
 "cells": [
  {
   "attachments": {},
   "cell_type": "markdown",
   "metadata": {},
   "source": [
    " # Developing a system for categorizing movie reviews "
   ]
  },
  {
   "attachments": {},
   "cell_type": "markdown",
   "metadata": {},
   "source": [
    "'Junky Union', a community for classic movie lovers, is developing a system for filtering and categorizing movie reviews. The goal is to train a model to detect negative reviews automatically."
   ]
  },
  {
   "attachments": {},
   "cell_type": "markdown",
   "metadata": {},
   "source": [
    "## Contents <a id='back'></a>"
   ]
  },
  {
   "attachments": {},
   "cell_type": "markdown",
   "metadata": {},
   "source": [
    "* [Intro](#intro)\n",
    "* [Stage 1. Data loading and preprocessing](#data_review)\n",
    "    * [1.1 Data exploration](#explore_data)\n",
    "* [Stage 2. Data division](#data_division)\n",
    "* [Stage 3. Model analysis](#model_analysis)\n",
    "    * [3.1 Decision tree](#decision_tree)\n",
    "    * [3.2 Random forest](#random_forest)\n",
    "    * [3.3 Logistic regression](#logistic_regression)\n",
    "    * [3.4 Model comparison](#model_comparison)\n",
    "* [Stage 4. Model quality](#model_quality)\n",
    "    * [4.1 Decision tree](#decision_tree_quality)\n",
    "    * [4.2 Random forest](#random_forest_quality)\n",
    "    * [4.3 Logistic regression](#logistic_regression_quality)\n",
    "* [Stage 5. Sanity test](#sanity_test)\n",
    "* [Conclusion](#conclusion)"
   ]
  },
  {
   "attachments": {},
   "cell_type": "markdown",
   "metadata": {},
   "source": [
    "## Introduction <a id='intro'></a>"
   ]
  },
  {
   "attachments": {},
   "cell_type": "markdown",
   "metadata": {},
   "source": [
    "We will use a dataset of IMDb (Internet Movie Database) with polarity legends to build a model to classify positive and negative reviews. This must reach an F1 value of at least 0.85."
   ]
  }
 ],
 "metadata": {
  "language_info": {
   "codemirror_mode": {
    "name": "ipython",
    "version": 3
   },
   "file_extension": ".py",
   "mimetype": "text/x-python",
   "name": "python",
   "nbconvert_exporter": "python",
   "pygments_lexer": "ipython3",
   "version": 3
  },
  "orig_nbformat": 4
 },
 "nbformat": 4,
 "nbformat_minor": 2
}
